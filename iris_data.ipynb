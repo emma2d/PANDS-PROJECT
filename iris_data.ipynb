{
 "cells": [
  {
   "cell_type": "code",
   "execution_count": null,
   "metadata": {},
   "outputs": [],
   "source": [
    "import matplotlib.pyplot as plt\n",
    "import pandas as pd\n",
    "import numpy as np\n",
    "import seaborn as sns"
   ]
  },
  {
   "attachments": {},
   "cell_type": "markdown",
   "metadata": {},
   "source": [
    "\n",
    "Import required libaries to execute the code"
   ]
  },
  {
   "cell_type": "code",
   "execution_count": null,
   "metadata": {},
   "outputs": [],
   "source": [
    "csv_url = 'https://archive.ics.uci.edu/ml/machine-learning-databases/iris/iris.data'"
   ]
  },
  {
   "attachments": {},
   "cell_type": "markdown",
   "metadata": {},
   "source": [
    "Pulls the data from the website and assigns it to the variable csv_url"
   ]
  },
  {
   "attachments": {},
   "cell_type": "markdown",
   "metadata": {},
   "source": [
    "Alternatively the code below reads in the data and specifies no header to prevent the first row being taken as a header"
   ]
  },
  {
   "cell_type": "code",
   "execution_count": null,
   "metadata": {},
   "outputs": [],
   "source": [
    "iris_data = pd.read_csv(csv_url, header = None)"
   ]
  },
  {
   "cell_type": "code",
   "execution_count": null,
   "metadata": {},
   "outputs": [],
   "source": [
    "sns.set(style=\"ticks\", palette=\"deep\")\n",
    "f, axes = plt.subplots(2, 2, sharey=False, figsize=(12, 8))\n",
    "sns.scatterplot(x=\"petal_length_in_cm\", y=\"petal_width_in_cm\", hue = \"class\",data=iris_data, ax=axes[0,0])\n",
    "sns.scatterplot(x=\"sepal_length_in_cm\", y=\"sepal_width_in_cm\", hue=\"class\", data=iris_data, ax=axes[0,1])\n",
    "sns.scatterplot(x=\"petal_length_in_cm\", y=\"sepal_length_in_cm\", hue = \"class\",data=iris_data, ax=axes[1,0])\n",
    "sns.scatterplot(x=\"petal_width_in_cm\", y=\"sepal_width_in_cm\", hue=\"class\", data=iris_data, ax=axes[1,1])\n",
    "f.suptitle(\"Scatterplots of the Petal and Sepal measurements by Iris plant Species\")\n",
    "plt.show()"
   ]
  }
 ],
 "metadata": {
  "kernelspec": {
   "display_name": "Python 3",
   "language": "python",
   "name": "python3"
  },
  "language_info": {
   "name": "python",
   "version": "3.11.3"
  },
  "orig_nbformat": 4
 },
 "nbformat": 4,
 "nbformat_minor": 2
}
