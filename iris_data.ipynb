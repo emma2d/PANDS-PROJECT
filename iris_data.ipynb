{
 "cells": [
  {
   "attachments": {},
   "cell_type": "markdown",
   "metadata": {},
   "source": [
    "Author Emma Dunleavy"
   ]
  },
  {
   "attachments": {},
   "cell_type": "markdown",
   "metadata": {},
   "source": [
    "\n",
    "Import required libaries to execute the code"
   ]
  },
  {
   "cell_type": "code",
   "execution_count": null,
   "metadata": {},
   "outputs": [],
   "source": [
    "import matplotlib.pyplot as plt\n",
    "import pandas as pd\n",
    "import numpy as np\n",
    "import seaborn as sns"
   ]
  },
  {
   "attachments": {},
   "cell_type": "markdown",
   "metadata": {},
   "source": [
    "Pull the data from the UCI Machine Learning website and assigns it to the variable csv_url"
   ]
  },
  {
   "cell_type": "code",
   "execution_count": null,
   "metadata": {},
   "outputs": [],
   "source": [
    "csv_url = 'https://archive.ics.uci.edu/ml/machine-learning-databases/iris/iris.data'"
   ]
  },
  {
   "attachments": {},
   "cell_type": "markdown",
   "metadata": {},
   "source": [
    "# Export the file to the current working directory and change the delimiter from a , to a tab"
   ]
  },
  {
   "cell_type": "code",
   "execution_count": null,
   "metadata": {},
   "outputs": [],
   "source": [
    "\n",
    "iris_data.to_csv(\"tab_seperated_iris_data.txt\", sep=\"\\t\")"
   ]
  },
  {
   "attachments": {},
   "cell_type": "markdown",
   "metadata": {},
   "source": [
    "Read in the data and specify no header to prevent the first row being taken as a header"
   ]
  },
  {
   "cell_type": "code",
   "execution_count": null,
   "metadata": {},
   "outputs": [],
   "source": [
    "iris_data = pd.read_csv(csv_url, header = None)"
   ]
  },
  {
   "attachments": {},
   "cell_type": "markdown",
   "metadata": {},
   "source": [
    "Define the column header names"
   ]
  },
  {
   "cell_type": "code",
   "execution_count": null,
   "metadata": {},
   "outputs": [],
   "source": [
    "col_names = [\"sepal_length_in_cm\",\n",
    "            \"sepal_width_in_cm\",\n",
    "            \"petal_length_in_cm\",\n",
    "            \"petal_width_in_cm\",\n",
    "            \"class\"]   "
   ]
  },
  {
   "attachments": {},
   "cell_type": "markdown",
   "metadata": {},
   "source": [
    "Read in the data and assigns the column names"
   ]
  },
  {
   "cell_type": "code",
   "execution_count": null,
   "metadata": {},
   "outputs": [],
   "source": [
    "iris_data = pd.read_csv(csv_url, names=col_names)"
   ]
  },
  {
   "attachments": {},
   "cell_type": "markdown",
   "metadata": {},
   "source": [
    "print(iris_data.info())  - prints a summary of the data frame\n",
    "\n",
    "print(iris_data.describe()) - prints description of the data in the data frame\n",
    "\n",
    "print(iris_data.head()) - prints the first 5 rows\n",
    "\n",
    "print(iris_data.tail()) - prints the last 5 rows\n",
    "\n",
    "print(iris_data.isnull()) - prints bollean value false if data not missing and true if data is missing\n",
    "\n",
    "All printed in the terminal window"
   ]
  },
  {
   "cell_type": "code",
   "execution_count": null,
   "metadata": {},
   "outputs": [],
   "source": [
    "print(iris_data.info())                             \n",
    "print(iris_data.describe())\n",
    "print(iris_data.head()) \n",
    "print(iris_data.tail()) \n",
    "print(iris_data.isnull())                         "
   ]
  },
  {
   "attachments": {},
   "cell_type": "markdown",
   "metadata": {},
   "source": [
    "Auto create a .txt file called \"iris_data.txt\" apends the summary \"info\" to the .txt file and closes the file"
   ]
  },
  {
   "cell_type": "code",
   "execution_count": null,
   "metadata": {},
   "outputs": [],
   "source": [
    "with open(\"iris_data.txt\", \"a\") as f: \n",
    "    f.write(str(iris_data.info()))\n",
    "    f.close"
   ]
  },
  {
   "attachments": {},
   "cell_type": "markdown",
   "metadata": {},
   "source": [
    "Define each of the class or species as it's own variable and then print the summary of each of the species"
   ]
  },
  {
   "cell_type": "code",
   "execution_count": null,
   "metadata": {},
   "outputs": [],
   "source": [
    "iris_setosa = iris_data[iris_data['class'] == \"Iris-setosa\"]\n",
    "Iris_versicolor = iris_data[iris_data['class'] == \"Iris-versicolor\"]\n",
    "Iris_virginica = iris_data[iris_data['class'] == \"Iris-virginica\"]\n",
    "\n",
    "print(iris_setosa.describe())\n",
    "print(Iris_versicolor.describe())\n",
    "print(Iris_virginica.describe())"
   ]
  },
  {
   "attachments": {},
   "cell_type": "markdown",
   "metadata": {},
   "source": [
    "xxxxx"
   ]
  },
  {
   "cell_type": "code",
   "execution_count": null,
   "metadata": {},
   "outputs": [],
   "source": [
    "with open(\"iris_data.txt\", \"a+\") as f: #creates a .txt file, apends the details in \"info\" and \"describe\" to the .txt file\n",
    "    f.write(\"\\n\")\n",
    "    f.write(\"This is a summary of all of the data points from all 3 species\")\n",
    "    f.write(\"\\n\")\n",
    "    f.write(str(iris_data.describe()))\n",
    "    f.write(\"\\n\")\n",
    "    f.write(\"\\n\")\n",
    "    f.write(\"This is a summary of the data points from the Iris setosa species\")\n",
    "    f.write(\"\\n\")\n",
    "    f.write(str(iris_setosa.describe()))\n",
    "    f.write(\"\\n\")\n",
    "    f.write(\"\\n\")\n",
    "    f.write(\"This is a summary of the data points from the Iris versicolor species\")\n",
    "    f.write(\"\\n\")\n",
    "    f.write(str(Iris_versicolor.describe()))\n",
    "    f.write(\"\\n\")\n",
    "    f.write(\"\\n\")\n",
    "    f.write(\"This is a summary of the data points from the Iris virginica species\")\n",
    "    f.write(\"\\n\")\n",
    "    f.write(str(Iris_virginica.describe()))\n",
    "    f.close\n"
   ]
  },
  {
   "attachments": {},
   "cell_type": "markdown",
   "metadata": {},
   "source": [
    "Auto create a histogram from the iris_data. Alpha sets the gradient of the histogram colour 0.1 being the lighest up to 0.9 the darkest. Bins are the number of segments the data is split out over and figsize determines the size of the figures produced. A title is added and the figure is saved as a .png file."
   ]
  },
  {
   "cell_type": "code",
   "execution_count": null,
   "metadata": {},
   "outputs": [],
   "source": [
    "iris_data.hist(alpha=0.8, bins=30, figsize=(12,8))\n",
    "with open ('graphs.png', \"w+\") as f:\n",
    "    plt.suptitle(\"Histogram of the Iris petal and sepal measurements\")\n",
    "    plt.savefig('graphs.png')\n",
    "    plt.show"
   ]
  },
  {
   "attachments": {},
   "cell_type": "markdown",
   "metadata": {},
   "source": [
    "The appearance of the plot can be changed by setting the setting the style and the palette.  Four 2 by 2 grid scatter plots are produced. Sharey = false means each subplot x- or y-axis is independent and hue determines which column the data frame should be used for colour coding. ax=axes [ , ] defines the location of the subplot\n",
    "A title is added and the graph displayed. "
   ]
  },
  {
   "cell_type": "code",
   "execution_count": null,
   "metadata": {},
   "outputs": [],
   "source": [
    "sns.set(style=\"ticks\", palette=\"deep\")\n",
    "f, axes = plt.subplots(2, 2, sharey=False, figsize=(12, 8))\n",
    "sns.scatterplot(x=\"petal_length_in_cm\", y=\"petal_width_in_cm\", hue = \"class\", data=iris_data, ax=axes[0,0])\n",
    "sns.scatterplot(x=\"sepal_length_in_cm\", y=\"sepal_width_in_cm\", hue = \"class\", data=iris_data, ax=axes[0,1])\n",
    "sns.scatterplot(x=\"petal_length_in_cm\", y=\"sepal_length_in_cm\", hue = \"class\", data=iris_data, ax=axes[1,0])\n",
    "sns.scatterplot(x=\"petal_width_in_cm\", y=\"sepal_width_in_cm\", hue =\"class\", data=iris_data, ax=axes[1,1])\n",
    "f.suptitle(\"Scatterplots of the Petal and Sepal measurements by Iris plant Species\")\n",
    "plt.show()"
   ]
  },
  {
   "attachments": {},
   "cell_type": "markdown",
   "metadata": {},
   "source": [
    "\n",
    "plotting 4 plots on a 2 by 2 grid, do not want to share the y axis between plots. Setting the figure size\n",
    "pass a panda Series as the x and y parameters to the boxplot. \n",
    "Using the Class column (categorical) and one of the sepal or petal measurements (numerical) for each subplot\n",
    "\n",
    "setting the hue = Class so that the points will be coloured on the plot according to their Class/species type."
   ]
  },
  {
   "cell_type": "code",
   "execution_count": null,
   "metadata": {},
   "outputs": [],
   "source": [
    "\n",
    "sns.set(style=\"ticks\", palette=\"pastel\")\n",
    "\n",
    " \n",
    "f, axes = plt.subplots(2, 2, sharey=False, figsize=(12, 8))\n",
    "\n",
    "sns.boxplot(x= \"class\", y= \"sepal_length_in_cm\", data=iris_data, ax=axes[0,1])\n",
    "sns.boxplot(x= \"class\", y= \"sepal_width_in_cm\", data=iris_data, ax=axes[1,1])\n",
    "sns.boxplot(x= \"class\", y= \"petal_length_in_cm\", data=iris_data, ax=axes[0,0])\n",
    "sns.boxplot(x= \"class\", y= \"petal_width_in_cm\", hue = \"class\", data=iris_data, ax=axes[1,0])\n",
    "\n",
    "# adding a title to the plot\n",
    "f.suptitle(\"Boxplot of the Petal and Sepal measurements by Iris plant Species\")\n",
    "plt.savefig(\"images/irisBoxbyClass.png\")\n",
    "plt.show()"
   ]
  }
 ],
 "metadata": {
  "kernelspec": {
   "display_name": "Python 3",
   "language": "python",
   "name": "python3"
  },
  "language_info": {
   "codemirror_mode": {
    "name": "ipython",
    "version": 3
   },
   "file_extension": ".py",
   "mimetype": "text/x-python",
   "name": "python",
   "nbconvert_exporter": "python",
   "pygments_lexer": "ipython3",
   "version": "3.11.3"
  },
  "orig_nbformat": 4
 },
 "nbformat": 4,
 "nbformat_minor": 2
}
